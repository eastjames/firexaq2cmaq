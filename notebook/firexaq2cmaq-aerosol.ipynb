{
 "cells": [
  {
   "cell_type": "markdown",
   "metadata": {},
   "source": [
    "# FIREX-AQ 2 CMAQ\n",
    "### Grid FIREX-AQ observations to CMAQ grid\n",
    "### Aerosols from CU Boulder Aerosol Mass Spec"
   ]
  },
  {
   "cell_type": "markdown",
   "metadata": {},
   "source": [
    "Inputs:\n",
    "* FIREX-AQ data\n",
    "* Met files\n",
    "* GRIDDESC file"
   ]
  },
  {
   "cell_type": "code",
   "execution_count": 1,
   "metadata": {},
   "outputs": [
    {
     "name": "stderr",
     "output_type": "stream",
     "text": [
      "/Users/jameseast/anaconda3/envs/jpy01/lib/python3.9/site-packages/scipy/__init__.py:146: UserWarning: A NumPy version >=1.16.5 and <1.23.0 is required for this version of SciPy (detected version 1.23.1\n",
      "  warnings.warn(f\"A NumPy version >={np_minversion} and <{np_maxversion}\"\n"
     ]
    }
   ],
   "source": [
    "import PseudoNetCDF as pnc\n",
    "import pandas as pd\n",
    "import numpy as np\n",
    "import xarray as xr\n",
    "import matplotlib.pyplot as plt"
   ]
  },
  {
   "cell_type": "code",
   "execution_count": 2,
   "metadata": {},
   "outputs": [],
   "source": [
    "# create a GRIDDESC\n",
    "with open('GRIDDESC', 'w') as gf:\n",
    "    gf.write(\n",
    "       \"' '\\n'LamCon_40N_97W'\\n 2 33.000 45.000 -97.000 -97.000 40.000\\n\" +\n",
    "       \"' '\\n'12US1'\\n'LamCon_40N_97W' \" +\n",
    "       \"-2556000.0 -1728000.0 12000.0 12000.0 459 299 1\\n' '\"\n",
    "    )"
   ]
  },
  {
   "cell_type": "code",
   "execution_count": 3,
   "metadata": {},
   "outputs": [],
   "source": [
    "mygrid = '12US1'"
   ]
  },
  {
   "cell_type": "code",
   "execution_count": 4,
   "metadata": {},
   "outputs": [
    {
     "name": "stderr",
     "output_type": "stream",
     "text": [
      "**PNC:/Users/jameseast/anaconda3/envs/jpy01/lib/python3.9/site-packages/PseudoNetCDF/pncwarn.py:24:UserWarning:\n",
      "  SDATE was -635; using 1970001\n",
      "**PNC:/Users/jameseast/anaconda3/envs/jpy01/lib/python3.9/site-packages/PseudoNetCDF/pncwarn.py:24:UserWarning:\n",
      "  IOAPI_ISPH is assumed to be 6370000.; consistent with WRF\n"
     ]
    }
   ],
   "source": [
    "gf = pnc.pncopen('GRIDDESC',format='griddesc',GDNAM=mygrid)"
   ]
  },
  {
   "cell_type": "code",
   "execution_count": 5,
   "metadata": {},
   "outputs": [],
   "source": [
    "# path, can read this from file/command line\n",
    "pathtofxaq = '../data/ams/FIREXAQ-AMS-60s_DC8_20190724_R1.ict'"
   ]
  },
  {
   "cell_type": "code",
   "execution_count": 6,
   "metadata": {},
   "outputs": [],
   "source": [
    "fxaq = pnc.pncopen(pathtofxaq,format='ffi1001')"
   ]
  },
  {
   "cell_type": "code",
   "execution_count": 7,
   "metadata": {},
   "outputs": [],
   "source": [
    "pathtosmk = '../data/smoke_flag/firexaq-fire-Flags-1HZ_DC8_20190724_R9.ict'\n",
    "smkf = pnc.pncopen(pathtosmk,format='ffi1001')"
   ]
  },
  {
   "cell_type": "code",
   "execution_count": 8,
   "metadata": {},
   "outputs": [
    {
     "name": "stdout",
     "output_type": "stream",
     "text": [
      "OA_PM1_AMS_60s\n",
      "['OA_PM1_AMS_60s']\n"
     ]
    }
   ],
   "source": [
    "# list all variables and pick ones I want\n",
    "keepv = []\n",
    "for v in list(fxaq.variables.keys()):\n",
    "    #if ('NO' in v) or ('O3' in v):\n",
    "    if 'OA_PM' in v:\n",
    "        print(v)\n",
    "        keepv.append(v)\n",
    "altitudevar = 'ALT_AMS_60s'\n",
    "latvar = 'LAT_AMS_60s'\n",
    "lonvar = 'LON_AMS_60s'\n",
    "print(keepv)"
   ]
  },
  {
   "cell_type": "code",
   "execution_count": 9,
   "metadata": {},
   "outputs": [],
   "source": [
    "smkf.variables['TIME_START'];"
   ]
  },
  {
   "cell_type": "code",
   "execution_count": 10,
   "metadata": {},
   "outputs": [],
   "source": [
    "plumet = 10 # near plume minutes to exclude"
   ]
  },
  {
   "cell_type": "code",
   "execution_count": 11,
   "metadata": {},
   "outputs": [],
   "source": [
    "#m3df = '/work/MOD3EVAL/jeast/NO2ASSIM/CMAQ/input/2019_hemi/mcip/METCRO3D_20190803.nc4'\n",
    "\n",
    "#m3d = xr.open_dataset(m3df)"
   ]
  },
  {
   "cell_type": "code",
   "execution_count": 12,
   "metadata": {},
   "outputs": [],
   "source": [
    "#sdate = pd.to_datetime(f'{m3d.SDATE}',format='%Y%j') # assumes STIME = 0\n",
    "sdate = pd.to_datetime('2019-07-22')"
   ]
  },
  {
   "cell_type": "code",
   "execution_count": 13,
   "metadata": {},
   "outputs": [],
   "source": [
    "dfx = pd.DataFrame()\n",
    "dfx['time'] = sdate+pd.to_timedelta(fxaq.variables['Time_Mid'], unit='s')"
   ]
  },
  {
   "cell_type": "code",
   "execution_count": 14,
   "metadata": {},
   "outputs": [],
   "source": [
    "dfx['time'] = dfx['time'].dt.round('1min')\n",
    "dfx['lat'] = fxaq.variables[latvar].array()\n",
    "dfx['lon'] = fxaq.variables[lonvar].array()\n",
    "#dfx['smokeflag'] = fxaq.variables['Smoke_flag_SCHWARZ'].array()\n",
    "dfx[f'altitude_{fxaq.variables[altitudevar].units}'] = fxaq.variables[altitudevar].array()\n",
    "for v in keepv:\n",
    "    dfx[f'{v}_{fxaq.variables[v].units}'] = fxaq.variables[v].array()"
   ]
  },
  {
   "cell_type": "code",
   "execution_count": 15,
   "metadata": {},
   "outputs": [
    {
     "name": "stderr",
     "output_type": "stream",
     "text": [
      "**PNC:/Users/jameseast/anaconda3/envs/jpy01/lib/python3.9/site-packages/PseudoNetCDF/pncwarn.py:24:UserWarning:\n",
      "  IOAPI_ISPH is assumed to be 6370000.; consistent with WRF\n"
     ]
    }
   ],
   "source": [
    "dfx['I'],dfx['J'] = gf.ll2ij(dfx['lon'],dfx['lat'])"
   ]
  },
  {
   "cell_type": "code",
   "execution_count": 16,
   "metadata": {},
   "outputs": [],
   "source": [
    "dfx['T'] = np.array([(t - sdate).total_seconds() // 3600 for t in dfx['time']], dtype='i')"
   ]
  },
  {
   "cell_type": "code",
   "execution_count": 17,
   "metadata": {},
   "outputs": [],
   "source": [
    "dfxd = dfx.query('T >= 0 and T <= 23').copy(deep=True)"
   ]
  },
  {
   "cell_type": "code",
   "execution_count": 18,
   "metadata": {},
   "outputs": [],
   "source": [
    "alt_bin_edges = np.arange(0,np.ceil(dfxd.altitude_m.max()/1000)*1000+1,1000)"
   ]
  },
  {
   "cell_type": "code",
   "execution_count": 20,
   "metadata": {},
   "outputs": [],
   "source": [
    "dfxd['K'] = np.ma.masked_less(\n",
    "    alt_bin_edges[1:] - dfxd['altitude_m'].to_numpy()[:,None],0\n",
    ").argmin(1)"
   ]
  },
  {
   "cell_type": "code",
   "execution_count": 35,
   "metadata": {},
   "outputs": [],
   "source": [
    "dfgrid = dfxd.groupby([\n",
    "    'T','K','J','I'\n",
    "]).agg(np.nanmean).drop('altitude_m',axis=1).reset_index().dropna()\n",
    "    "
   ]
  },
  {
   "cell_type": "code",
   "execution_count": 36,
   "metadata": {},
   "outputs": [],
   "source": [
    "# Make data the shape of an ioapi file\n",
    "\n",
    "blankij=pd.DataFrame(\n",
    "    np.zeros((\n",
    "        np.arange(0,24,dtype=int).shape[0] *\n",
    "        np.arange(0,alt_bin_edges.shape[0]-1,dtype=int).shape[0] *\n",
    "        np.arange(0,len(gf.dimensions['ROW']),dtype=int).shape[0] *\n",
    "        np.arange(0,len(gf.dimensions['COL']),dtype=int).shape[0]\n",
    "    )),\n",
    "    columns=['blank'],\n",
    "    index=pd.MultiIndex.from_product(\n",
    "        [\n",
    "            np.arange(0,24,dtype=int),\n",
    "            np.arange(0,alt_bin_edges.shape[0]-1,dtype=int),\n",
    "            np.arange(0,len(gf.dimensions['ROW']),dtype=int),\n",
    "            np.arange(0,len(gf.dimensions['COL']),dtype=int)\n",
    "        ],\n",
    "        names=['T','K','J','I']\n",
    "    ),\n",
    ")"
   ]
  },
  {
   "cell_type": "code",
   "execution_count": 59,
   "metadata": {},
   "outputs": [],
   "source": [
    "dfout = (\n",
    "    blankij.drop(['blank'],axis='columns')\n",
    ").merge(\n",
    "    dfgrid,\n",
    "    how='outer',\n",
    "    left_index=True,\n",
    "    right_on=['T','K','J','I']\n",
    ")\n",
    "dfout_idx = dfout.groupby(['T','K','J','I']).first()\n",
    "dout = dfout_idx.to_xarray()"
   ]
  },
  {
   "cell_type": "code",
   "execution_count": 60,
   "metadata": {},
   "outputs": [],
   "source": [
    "dout = dout.rename({'T':'TSTEP', 'K':'LAY', 'J':'ROW', 'I':'COL'})"
   ]
  },
  {
   "cell_type": "code",
   "execution_count": 61,
   "metadata": {},
   "outputs": [],
   "source": [
    "dout = dout.rename({'OA_PM1_AMS_60s_ug sm-3': 'OA'})\n",
    "dout['OA'].attrs['units'] = 'ug m3'"
   ]
  },
  {
   "cell_type": "code",
   "execution_count": 76,
   "metadata": {},
   "outputs": [],
   "source": [
    "proj = pyproj.Proj('+proj=lcc +lat_0=40 +lon_0=-97 +lat_1=33 +lat_2=45 +R=6370000 +no_defs')\n",
    "cno = pycno.cno(proj=proj,xlim=(0, 396), ylim=(0, 246))"
   ]
  },
  {
   "cell_type": "code",
   "execution_count": 82,
   "metadata": {},
   "outputs": [],
   "source": [
    "import cartopy.crs as ccrs\n",
    "import cartopy.feature as cfeature"
   ]
  },
  {
   "cell_type": "code",
   "execution_count": 140,
   "metadata": {},
   "outputs": [
    {
     "data": {
      "image/png": "[encoded data removed]",
      "text/plain": [
       "<Figure size 1000x400 with 4 Axes>"
      ]
     },
     "metadata": {},
     "output_type": "display_data"
    }
   ],
   "source": [
    "fig,axs = plt.subplots(\n",
    "    1,3,\n",
    "    subplot_kw={\n",
    "        'projection':ccrs.LambertConformal(\n",
    "            central_longitude=-97.0,\n",
    "            central_latitude=40.0\n",
    "        )\n",
    "    },\n",
    "    figsize=(10,4)\n",
    ")\n",
    "\n",
    "ax=axs[0]\n",
    "pc = ax.pcolormesh(\n",
    "    gf.variables['longitude'],\n",
    "    gf.variables['latitude'],\n",
    "    dout['OA'].mean(('TSTEP','LAY')),\n",
    "    transform=ccrs.PlateCarree(),\n",
    "    vmin=0, vmax=12\n",
    ")\n",
    "\n",
    "\n",
    "\n",
    "ax=axs[1]\n",
    "ax.plot(\n",
    "    fxaq.variables[lonvar],\n",
    "    fxaq.variables[latvar],\n",
    "    transform=ccrs.PlateCarree(),\n",
    "    color='k'\n",
    ")\n",
    "\n",
    "ax=axs[2]\n",
    "ax.scatter(\n",
    "    fxaq.variables[lonvar],\n",
    "    fxaq.variables[latvar],\n",
    "    transform=ccrs.PlateCarree(),\n",
    "    c=fxaq.variables['OA_PM1_AMS_60s'],\n",
    "    s=1,\n",
    "    vmin=0, vmax=12\n",
    ")\n",
    "\n",
    "for ax in axs:\n",
    "    ax.add_feature(cfeature.STATES)\n",
    "    ax.set_facecolor('darkgrey')\n",
    "    ax.coastlines()\n",
    "    ax.set_extent((-116,-111,42,46))\n",
    "\n",
    "fig.colorbar(pc, ax=axs, label='Organic aerosol [ug m-3]\\naerosol mass spec\\ncolumn avg',orientation='horizontal',pad=0.05)\n",
    "fig.suptitle(f'FIREX-AQ\\n{sdate.strftime(\"%Y-%m-%d\")}')\n",
    "fig.savefig('firexaq_oa.png',dpi=600,bbox_inches='tight')"
   ]
  },
  {
   "cell_type": "code",
   "execution_count": null,
   "metadata": {},
   "outputs": [],
   "source": []
  }
 ],
 "metadata": {
  "kernelspec": {
   "display_name": "Python 3 (ipykernel)",
   "language": "python",
   "name": "python3"
  },
  "language_info": {
   "codemirror_mode": {
    "name": "ipython",
    "version": 3
   },
   "file_extension": ".py",
   "mimetype": "text/x-python",
   "name": "python",
   "nbconvert_exporter": "python",
   "pygments_lexer": "ipython3",
   "version": "3.9.13"
  }
 },
 "nbformat": 4,
 "nbformat_minor": 4
}
