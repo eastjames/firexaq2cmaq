{
 "cells": [
  {
   "cell_type": "markdown",
   "metadata": {},
   "source": [
    "# FIREX-AQ 2 CMAQ\n",
    "### Grid FIREX-AQ observations to CMAQ grid"
   ]
  },
  {
   "cell_type": "markdown",
   "metadata": {},
   "source": [
    "Inputs:\n",
    "* FIREX-AQ data\n",
    "* Met files\n",
    "* GRIDDESC file"
   ]
  },
  {
   "cell_type": "code",
   "execution_count": 2,
   "metadata": {},
   "outputs": [],
   "source": [
    "import PseudoNetCDF as pnc\n",
    "import pandas as pd\n",
    "import numpy as np\n",
    "import xarray as xr\n",
    "import matplotlib.pyplot as plt"
   ]
  },
  {
   "cell_type": "code",
   "execution_count": 3,
   "metadata": {},
   "outputs": [],
   "source": [
    "mygrid = '108NHEMI2'"
   ]
  },
  {
   "cell_type": "code",
   "execution_count": 4,
   "metadata": {},
   "outputs": [
    {
     "name": "stderr",
     "output_type": "stream",
     "text": [
      "**PNC:/home/jeast/.conda/envs/jpy01/lib/python3.9/site-packages/PseudoNetCDF/pncwarn.py:24:UserWarning:\n",
      "  SDATE was -635; using 1970001\n",
      "**PNC:/home/jeast/.conda/envs/jpy01/lib/python3.9/site-packages/PseudoNetCDF/pncwarn.py:24:UserWarning:\n",
      "  IOAPI_ISPH is assumed to be 6370000.; consistent with WRF\n"
     ]
    }
   ],
   "source": [
    "gf = pnc.pncopen('/home/jeast/GRIDDESC',format='griddesc',GDNAM='108NHEMI2')"
   ]
  },
  {
   "cell_type": "code",
   "execution_count": 5,
   "metadata": {},
   "outputs": [],
   "source": [
    "# path, can read this from file/command line\n",
    "pathtofxaq = '../data/MERGES/60_SECOND.DC8_MRG/firexaq-mrg60-dc8_merge_20190722_R1_thru20190905.ict'"
   ]
  },
  {
   "cell_type": "code",
   "execution_count": 6,
   "metadata": {},
   "outputs": [],
   "source": [
    "fxaq = pnc.pncopen(pathtofxaq,format='ffi1001')"
   ]
  },
  {
   "cell_type": "code",
   "execution_count": 7,
   "metadata": {},
   "outputs": [
    {
     "name": "stdout",
     "output_type": "stream",
     "text": [
      "O3_CL_RYERSON\n",
      "NO_CL_RYERSON\n",
      "NO2_CL_RYERSON\n",
      "NOy_CL_RYERSON\n",
      "CO_DACOM_DISKIN\n",
      "['O3_CL_RYERSON', 'NO_CL_RYERSON', 'NO2_CL_RYERSON', 'NOy_CL_RYERSON', 'CO_DACOM_DISKIN']\n"
     ]
    }
   ],
   "source": [
    "# list all variables and pick ones I want\n",
    "keepv = []\n",
    "for v in list(fxaq.variables.keys()):\n",
    "    #if ('NO' in v) or ('O3' in v):\n",
    "    if 'RYERSON' in v:\n",
    "        print(v)\n",
    "        keepv.append(v)\n",
    "    if 'CO_' in v and 'DISKIN' in v:\n",
    "        print(v)\n",
    "        keepv.append(v)\n",
    "altitudevar = 'MSL_GPS_Altitude_YANG'\n",
    "print(keepv)"
   ]
  },
  {
   "cell_type": "code",
   "execution_count": 8,
   "metadata": {},
   "outputs": [],
   "source": [
    "plumet = 10 # near plume minutes to exclude"
   ]
  },
  {
   "cell_type": "code",
   "execution_count": 9,
   "metadata": {},
   "outputs": [],
   "source": [
    "m3df = '/work/MOD3EVAL/jeast/NO2ASSIM/CMAQ/input/2019_hemi/mcip/METCRO3D_20190803.nc4'\n",
    "#m3d = pnc.pncopen(m3df, format='ioapi')\n",
    "m3d = xr.open_dataset(m3df)"
   ]
  },
  {
   "cell_type": "code",
   "execution_count": 10,
   "metadata": {},
   "outputs": [],
   "source": [
    "sdate = pd.to_datetime(f'{m3d.SDATE}',format='%Y%j') # assumes STIME = 0"
   ]
  },
  {
   "cell_type": "code",
   "execution_count": 11,
   "metadata": {},
   "outputs": [],
   "source": [
    "dfx = pd.DataFrame()\n",
    "dfx['time'] = pd.to_datetime('20190101')+pd.to_timedelta(fxaq.variables['Fractional_Day']-1,unit='D')\n",
    "dfx['time'] = dfx['time'].dt.round('1min')\n",
    "dfx['lat'] = fxaq.variables['Latitude_YANG'].array()\n",
    "dfx['lon'] = fxaq.variables['Longitude_YANG'].array()\n",
    "dfx['smokeflag'] = fxaq.variables['Smoke_flag_SCHWARZ'].array()\n",
    "dfx[f'altitude_{fxaq.variables[altitudevar].units}'] = fxaq.variables[altitudevar].array()\n",
    "for v in keepv:\n",
    "    dfx[f'{v}_{fxaq.variables[v].units}'] = fxaq.variables[v].array()"
   ]
  },
  {
   "cell_type": "code",
   "execution_count": 12,
   "metadata": {},
   "outputs": [
    {
     "name": "stderr",
     "output_type": "stream",
     "text": [
      "**PNC:/home/jeast/.conda/envs/jpy01/lib/python3.9/site-packages/PseudoNetCDF/pncwarn.py:24:UserWarning:\n",
      "  IOAPI_ISPH is assumed to be 6370000.; consistent with WRF\n"
     ]
    }
   ],
   "source": [
    "dfx['I'],dfx['J'] = gf.ll2ij(dfx['lon'],dfx['lat'])"
   ]
  },
  {
   "cell_type": "code",
   "execution_count": 13,
   "metadata": {},
   "outputs": [],
   "source": [
    "dfx['T'] = np.array([(t - sdate).total_seconds() // 3600 for t in dfx['time']], dtype='i')"
   ]
  },
  {
   "cell_type": "code",
   "execution_count": 14,
   "metadata": {},
   "outputs": [],
   "source": [
    "dfxd = dfx.query('T >= 0 and T <= 23').copy(deep=True)"
   ]
  },
  {
   "cell_type": "code",
   "execution_count": 15,
   "metadata": {},
   "outputs": [],
   "source": [
    "dfxd['K'] = np.ma.masked_less(\n",
    "    m3d['ZF'].values[dfxd['T'],:,dfxd['J'],dfxd['I']] - dfxd['altitude_m'].to_numpy()[:,None],0\n",
    ").argmin(1)"
   ]
  },
  {
   "cell_type": "code",
   "execution_count": 16,
   "metadata": {},
   "outputs": [],
   "source": [
    "dfxd['out_plume'] = np.where(dfxd['smokeflag'].isna(),True,False)\n",
    "dfxd['in_plume'] = ~dfxd['out_plume'].copy(deep=True)"
   ]
  },
  {
   "cell_type": "code",
   "execution_count": 17,
   "metadata": {},
   "outputs": [
    {
     "name": "stdout",
     "output_type": "stream",
     "text": [
      "CPU times: user 674 ms, sys: 2.76 ms, total: 676 ms\n",
      "Wall time: 696 ms\n"
     ]
    }
   ],
   "source": [
    "%%time\n",
    "# find a better way to do this\n",
    "tinvalid_range = np.array([\n",
    "    pd.date_range(\n",
    "        start = dfxd.where(dfxd['in_plume']).dropna()['time'][i]-pd.to_timedelta(f'{plumet}min'),\n",
    "        end = dfxd.where(dfxd['in_plume']).dropna()['time'][i]+pd.to_timedelta(f'{plumet}min'),\n",
    "        freq='1min'\n",
    "    )\n",
    "    for i in dfxd.where(dfxd['in_plume']).dropna()['time'].index\n",
    "])"
   ]
  },
  {
   "cell_type": "code",
   "execution_count": 20,
   "metadata": {},
   "outputs": [
    {
     "data": {
      "text/plain": [
       "array([22, 23, 24, 25, 26, 29, 30, 31,  2,  3,  4,  6,  7,  8,  9, 12, 13,\n",
       "       14, 15, 16, 17, 19, 21, 27,  1,  5])"
      ]
     },
     "execution_count": 20,
     "metadata": {},
     "output_type": "execute_result"
    }
   ],
   "source": [
    "dfx.time.dt.day.unique()"
   ]
  },
  {
   "cell_type": "code",
   "execution_count": 17,
   "metadata": {},
   "outputs": [],
   "source": [
    "tinvalid = np.unique(tinvalid_range)"
   ]
  },
  {
   "cell_type": "code",
   "execution_count": 18,
   "metadata": {},
   "outputs": [],
   "source": [
    "dfxd['near_plume'] = dfxd['out_plume'] & dfxd['time'].isin(tinvalid) # all points outside plume but within X minutes of plume"
   ]
  },
  {
   "cell_type": "code",
   "execution_count": 19,
   "metadata": {},
   "outputs": [],
   "source": [
    "dtmp = dfxd.query('out_plume & ~near_plume').groupby(by=['T','K','J','I']).mean()[[f'{v}_ppbv' for v in keepv]]"
   ]
  },
  {
   "cell_type": "code",
   "execution_count": 20,
   "metadata": {},
   "outputs": [],
   "source": [
    "# Make data the shape of an ioapi file\n",
    "\n",
    "blankij=pd.DataFrame(\n",
    "    np.zeros((24*44*187*187)),\n",
    "    columns=['blank'],\n",
    "    index=pd.MultiIndex.from_product(\n",
    "        [\n",
    "            np.arange(0,24,dtype=int),\n",
    "            np.arange(0,44,dtype=int),\n",
    "            np.arange(0,187,dtype=int),\n",
    "            np.arange(0,187,dtype=int)\n",
    "        ],\n",
    "        names=['T','K','J','I']\n",
    "    ),\n",
    ")\n",
    "\n",
    "dfout = (\n",
    "    blankij.drop(['blank'],axis='columns')\n",
    ").merge(\n",
    "    dtmp,\n",
    "    how='outer',\n",
    "    left_index=True,\n",
    "    right_on=['T','K','J','I']\n",
    ")\n",
    "dout = dfout.to_xarray()"
   ]
  },
  {
   "cell_type": "code",
   "execution_count": 21,
   "metadata": {},
   "outputs": [],
   "source": [
    "# open an IOAPI for a template\n",
    "fakeioapi = '/work/MOD3EVAL/jeast/NO2ASSIM/manuscript/figure_data/IOAPI.FAKE.nc'\n",
    "ioapif = pnc.pncopen(m3df, format='ioapi')"
   ]
  },
  {
   "cell_type": "code",
   "execution_count": 22,
   "metadata": {},
   "outputs": [],
   "source": [
    "# create template\n",
    "tmpf = ioapif.subsetVariables(['ZF']).copy()\n",
    "tmpf.TSTEP = 10000\n",
    "setattr(tmpf,'SDATE',int(sdate.strftime('%Y%j')))\n",
    "tmpf.updatetflag(overwrite=True)\n",
    "outf = tmpf.sliceDimensions(TSTEP=slice(0,24))"
   ]
  },
  {
   "cell_type": "code",
   "execution_count": 23,
   "metadata": {},
   "outputs": [],
   "source": [
    "# make variable in new file\n",
    "for v in dout.data_vars: \n",
    "    evar = outf.createVariable(v, 'f', ('TSTEP', 'LAY', 'ROW', 'COL'))\n",
    "    evar.setncatts(dict(\n",
    "      units=v.split('_')[-1], long_name=v, var_desc=f'FIREX-AQ variable f{v} from {pathtofxaq.split(\"/\")[-1]}'\n",
    "    ))\n",
    "    evar[:] = dout[v].data"
   ]
  },
  {
   "cell_type": "code",
   "execution_count": 24,
   "metadata": {},
   "outputs": [
    {
     "name": "stderr",
     "output_type": "stream",
     "text": [
      "**PNC:/home/jeast/.conda/envs/jpy01/lib/python3.9/site-packages/PseudoNetCDF/pncwarn.py:24:UserWarning:\n",
      "  O3_CL_RYERSON_ppbv name is too long (18); not included in VAR-LIST\n",
      "**PNC:/home/jeast/.conda/envs/jpy01/lib/python3.9/site-packages/PseudoNetCDF/pncwarn.py:24:UserWarning:\n",
      "  NO_CL_RYERSON_ppbv name is too long (18); not included in VAR-LIST\n",
      "**PNC:/home/jeast/.conda/envs/jpy01/lib/python3.9/site-packages/PseudoNetCDF/pncwarn.py:24:UserWarning:\n",
      "  NO2_CL_RYERSON_ppbv name is too long (19); not included in VAR-LIST\n",
      "**PNC:/home/jeast/.conda/envs/jpy01/lib/python3.9/site-packages/PseudoNetCDF/pncwarn.py:24:UserWarning:\n",
      "  NOy_CL_RYERSON_ppbv name is too long (19); not included in VAR-LIST\n",
      "**PNC:/home/jeast/.conda/envs/jpy01/lib/python3.9/site-packages/PseudoNetCDF/pncwarn.py:24:UserWarning:\n",
      "  CO_DACOM_DISKIN_ppbv name is too long (20); not included in VAR-LIST\n"
     ]
    },
    {
     "name": "stdout",
     "output_type": "stream",
     "text": [
      "Adding dimensions\n",
      "Adding globals\n",
      "Adding variables\n",
      "Defining O3_CL_RYERSON_ppbv\n",
      "Defining NO_CL_RYERSON_ppbv\n",
      "Defining NO2_CL_RYERSON_ppbv\n",
      "Defining NOy_CL_RYERSON_ppbv\n",
      "Defining CO_DACOM_DISKIN_ppbv\n",
      "Defining TFLAG\n",
      "Populating O3_CL_RYERSON_ppbv\n",
      "Populating NO_CL_RYERSON_ppbv\n",
      "Populating NO2_CL_RYERSON_ppbv\n",
      "Populating NOy_CL_RYERSON_ppbv\n",
      "Populating CO_DACOM_DISKIN_ppbv\n",
      "Populating TFLAG\n"
     ]
    },
    {
     "data": {
      "text/plain": [
       "<class 'netCDF4._netCDF4.Dataset'>\n",
       "root group (NETCDF4_CLASSIC data model, file format HDF5):\n",
       "    CDATE: 2020338\n",
       "    CTIME: 201225\n",
       "    WDATE: 2022221\n",
       "    WTIME: 132134\n",
       "    IOAPI_VERSION: ioapi-3.2: $Id: init3.F90 1 2017-06-10 18:05:20Z coats $                        \n",
       "    EXEC_ID: mcip                                                                            \n",
       "    FTYPE: 1\n",
       "    SDATE: 2019215\n",
       "    STIME: 0\n",
       "    TSTEP: 240000\n",
       "    NTHIK: 1\n",
       "    NCOLS: 187\n",
       "    NROWS: 187\n",
       "    NLAYS: 44\n",
       "    NVARS: 5\n",
       "    GDTYP: 6\n",
       "    P_ALP: 1.0\n",
       "    P_BET: 45.0\n",
       "    P_GAM: -98.0\n",
       "    XCENT: -98.0\n",
       "    YCENT: 90.0\n",
       "    XORIG: -10098000.0\n",
       "    YORIG: -10098000.0\n",
       "    XCELL: 108000.0\n",
       "    YCELL: 108000.0\n",
       "    VGTYP: -9999\n",
       "    VGTOP: 5000.0\n",
       "    VGLVLS: [1.     0.9975 0.9946 0.9913 0.9875 0.9831 0.9781 0.9723 0.9657 0.958\n",
       " 0.9492 0.9391 0.9275 0.9141 0.8987 0.881  0.8607 0.8373 0.8104 0.7795\n",
       " 0.7439 0.7066 0.6693 0.632  0.5946 0.5573 0.52   0.4827 0.4454 0.4081\n",
       " 0.3708 0.3352 0.3013 0.269  0.2383 0.2089 0.181  0.1543 0.1289 0.1047\n",
       " 0.0816 0.0596 0.0386 0.0186 0.    ]\n",
       "    GDNAM: 108NHEMI_CROSS  \n",
       "    UPNAM: OUTCM3IO        \n",
       "    VAR-LIST: O3_CL_RYERSON_ppbv    NO_CL_RYERSON_ppbv    NO2_CL_RYERSON_ppbv    NOy_CL_RYERSON_ppbv    CO_DACOM_DISKIN_ppbv\n",
       "    FILEDESC: FIREX-AQ gridded to CMAQ 108NHEMI2                                                                                                                                                                                                                                                                                                                                                                                                                                                                                                                                                                                                                                                                                                                                                                                                                                                                                                                                                                                                                                                                                                                                                                                                                                                                                                                                                                                                                                                                                                                                                                                                                                                                                                                                                                                                                                                                                                                                                                                                                                                                                                                                                                                                                                                                                                                                                                                                                                                                                                                                                                                                                                                                                                                                                                                                                                                                                                                                                                                                                                                                                                                                                                                                                                                                                                                                                                                                                                                                                                                                                                                                                                                                                                                                                                                                                                                                                                                                                                                                                                                                                                                                                                                                                                                                                                                                                                                                                                                                                                                                                                                                                                                                                                                                                                                                                                                                                                                                                              \n",
       "    HISTORY:                                                                                                                                                                                                                                                                                                                                                                                                                                                                                                                                                                                                                                                                                                                                                                                                                                                                                                                                                                                                                                                                                                                                                                                                                                                                                                                                                                                                                                                                                                                                                                                                                                                                                                                                                                                                                                                                                                                                                                                                                                                                                                                                                                                                                                                                                                                                                                                                                                                                                                                                                                                                                                                                                                                                                                                                                                                                                                                                                                                                                                                                                                                                                                                                                                                                                                                                                                                                                                                                                                                                                                                                                                                                                                                                                                                                                                                                                                                                                                                                                                                                                                                                                                                                                                                                                                                                                                                                                                                                                                                                                                                                                                                                                                                                                                                                                                                                                                                                                                                                 \n",
       "    dimensions(sizes): TSTEP(24), DATE-TIME(2), LAY(44), VAR(1), ROW(187), COL(187)\n",
       "    variables(dimensions): float32 O3_CL_RYERSON_ppbv(TSTEP, LAY, ROW, COL), float32 NO_CL_RYERSON_ppbv(TSTEP, LAY, ROW, COL), float32 NO2_CL_RYERSON_ppbv(TSTEP, LAY, ROW, COL), float32 NOy_CL_RYERSON_ppbv(TSTEP, LAY, ROW, COL), float32 CO_DACOM_DISKIN_ppbv(TSTEP, LAY, ROW, COL), int32 TFLAG(TSTEP, VAR, DATE-TIME)\n",
       "    groups: "
      ]
     },
     "execution_count": 24,
     "metadata": {},
     "output_type": "execute_result"
    }
   ],
   "source": [
    "# Get rid of FAKE file variables\n",
    "del(outf.variables['ZF'])\n",
    "\n",
    "# Update TFLAG to be consistent with variables\n",
    "outf.updatetflag(tstep=240000, overwrite=True)\n",
    "\n",
    "# Remove VAR-LIST so that it can be inferred\n",
    "delattr(tmpf, 'VAR-LIST')\n",
    "setattr(outf,'VAR-LIST','    '.join([v for v in dout.data_vars]))\n",
    "outf.updatemeta()\n",
    "setattr(outf,'FILEDESC',f'FIREX-AQ gridded to CMAQ {mygrid}')\n",
    "\n",
    "# save the file to disk\n",
    "#outf.save(f'FIREX-AQ.{mygrid}.{sdate.strftime(\"%Y%m%d\")}-test.nc', format='NETCDF4_CLASSIC')"
   ]
  },
  {
   "cell_type": "code",
   "execution_count": 31,
   "metadata": {},
   "outputs": [],
   "source": [
    "# test a file"
   ]
  },
  {
   "cell_type": "code",
   "execution_count": 39,
   "metadata": {},
   "outputs": [],
   "source": [
    "import pycno\n",
    "import pyproj\n",
    "\n",
    "\n",
    "proj = pyproj.Proj(\n",
    "  (\n",
    "    '+proj=stere +lat_0=90 +lat_ts=45 +lon_0=-98 ' +\n",
    "    '+x_0=10098000 +y_0=10098000 +R=6370000 +to_meter=108000 ' +\n",
    "    '+no_defs'\n",
    "  ),\n",
    "  preserve_units=True\n",
    ")\n"
   ]
  },
  {
   "cell_type": "code",
   "execution_count": 91,
   "metadata": {},
   "outputs": [
    {
     "data": {
      "text/plain": [
       "Text(0.5, 1.02, 'FIREX-AQ DC-8\\n2019-08-03')"
      ]
     },
     "execution_count": 91,
     "metadata": {},
     "output_type": "execute_result"
    },
    {
     "data": {
      "image/png": "[encoded data removed]",
      "text/plain": [
       "<Figure size 720x360 with 4 Axes>"
      ]
     },
     "metadata": {
      "needs_background": "light"
     },
     "output_type": "display_data"
    }
   ],
   "source": [
    "op = xr.open_dataset('./gridded/FIREX-AQ.108NHEMI2.outofplume.20190803.compressed.nc')\n",
    "cp = xr.open_dataset('./gridded/FIREX-AQ.108NHEMI2.nearplume.20190803.compressed.nc')\n",
    "ip = xr.open_dataset('./gridded/FIREX-AQ.108NHEMI2.inplume.20190803.compressed.nc')\n",
    "fig,ax = plt.subplots(1,3,figsize=(10,5))\n",
    "pc = ax[0].pcolormesh(\n",
    "    np.ma.masked_less_equal(op['CO_DACOM_DISKIN_ppbv'].mean(('TSTEP','LAY')),0),\n",
    "    vmin=0,vmax=300\n",
    ")\n",
    "pc = ax[1].pcolormesh(\n",
    "    np.ma.masked_less_equal(cp['CO_DACOM_DISKIN_ppbv'].mean(('TSTEP','LAY')),0),\n",
    "    vmin=0,vmax=300\n",
    ")\n",
    "pc = ax[2].pcolormesh(\n",
    "    np.ma.masked_less_equal(ip['CO_DACOM_DISKIN_ppbv'].mean(('TSTEP','LAY')),0),\n",
    "    vmin=0,vmax=300\n",
    ")\n",
    "cno = pycno.cno(proj=proj, xlim=(75, 90), ylim=(40, 60))\n",
    "for axx in ax:\n",
    "    cno.draw(ax=axx)\n",
    "    axx.set_aspect('equal')\n",
    "\n",
    "for axx,da in zip(ax,[op,cp,ip]):\n",
    "    axx.text(0.05,0.05,f'Mean CO = {da[\"CO_DACOM_DISKIN_ppbv\"].mean().values:.0f} ppb',transform=axx.transAxes)\n",
    "fig.colorbar(pc,label='CO [ppb]',orientation='horizontal',ax=ax,aspect=50)\n",
    "ax[0].set_title('out of plume')\n",
    "ax[1].set_title('near plume (10-min)')\n",
    "ax[2].set_title('in plume')\n",
    "fig.suptitle('FIREX-AQ DC-8\\n2019-08-03',y=1.02)"
   ]
  },
  {
   "cell_type": "code",
   "execution_count": null,
   "metadata": {},
   "outputs": [],
   "source": []
  }
 ],
 "metadata": {
  "kernelspec": {
   "display_name": "jpy01",
   "language": "python",
   "name": "jpy01"
  },
  "language_info": {
   "codemirror_mode": {
    "name": "ipython",
    "version": 3
   },
   "file_extension": ".py",
   "mimetype": "text/x-python",
   "name": "python",
   "nbconvert_exporter": "python",
   "pygments_lexer": "ipython3",
   "version": "3.9.7"
  }
 },
 "nbformat": 4,
 "nbformat_minor": 4
}
